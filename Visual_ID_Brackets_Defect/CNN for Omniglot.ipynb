{
 "cells": [
  {
   "cell_type": "markdown",
   "metadata": {},
   "source": [
    "## Import Required Packages"
   ]
  },
  {
   "cell_type": "code",
   "execution_count": 12,
   "metadata": {},
   "outputs": [
    {
     "name": "stdout",
     "output_type": "stream",
     "text": [
      "The tensorboard extension is already loaded. To reload it, use:\n",
      "  %reload_ext tensorboard\n"
     ]
    }
   ],
   "source": [
    "import sys\n",
    "import numpy as np\n",
    "import os\n",
    "import shutil\n",
    "import matplotlib.pyplot as plt\n",
    "%matplotlib inline\n",
    "\n",
    "import time\n",
    "from datetime import datetime\n",
    "\n",
    "import tensorflow as tf\n",
    "from tensorflow import keras\n",
    "from tensorflow.keras import layers\n",
    "from tensorflow.keras import activations\n",
    "from tensorflow.keras import preprocessing\n",
    "from tensorflow.keras.preprocessing import image_dataset_from_directory\n",
    "from tensorflow.keras.preprocessing.image import ImageDataGenerator, array_to_img, img_to_array, load_img\n",
    "\n",
    "from keras.models import Sequential\n",
    "from keras.optimizers import Adam\n",
    "from keras.layers import Conv2D, ZeroPadding2D, Activation, Input, concatenate, Dropout\n",
    "from keras.models import Model\n",
    "\n",
    "from keras.layers.normalization import BatchNormalization\n",
    "from keras.layers.pooling import MaxPooling2D\n",
    "from keras.layers.merge import Concatenate\n",
    "from keras.layers.core import Lambda, Flatten, Dense\n",
    "from keras.initializers import glorot_uniform\n",
    "\n",
    "from keras.applications.vgg16 import decode_predictions\n",
    "from keras.applications.vgg16 import VGG16\n",
    "\n",
    "from keras.engine.topology import Layer\n",
    "from keras.regularizers import l2\n",
    "from keras import backend as K\n",
    "\n",
    "%load_ext tensorboard\n",
    "\n",
    "from sklearn.utils import shuffle\n",
    "\n",
    "import numpy.random as rng\n",
    "np.random.seed(1337)"
   ]
  },
  {
   "cell_type": "markdown",
   "metadata": {},
   "source": [
    "## Create Data Generators"
   ]
  },
  {
   "cell_type": "code",
   "execution_count": 18,
   "metadata": {},
   "outputs": [],
   "source": [
    "SIZE = 105\n",
    "IMG_SIZE = (SIZE, SIZE)\n",
    "NUM_CHANNELS = 3\n",
    "BATCH_SIZE = 16\n",
    "\n",
    "# Define training augmentations\n",
    "train_datagen = ImageDataGenerator(\n",
    "    rescale=1./255,\n",
    "    width_shift_range=0.1,\n",
    "    height_shift_range=0.1,\n",
    "    zoom_range=0.2,\n",
    "    shear_range=0.2)\n",
    "\n",
    "\n",
    "# Define testing augmentations\n",
    "test_datagen = ImageDataGenerator(rescale=1./255)"
   ]
  },
  {
   "cell_type": "code",
   "execution_count": 3,
   "metadata": {},
   "outputs": [],
   "source": [
    "# Create example augmented images\n",
    "img = load_img('F:/Work/University/Year 5/ACS6420_Advanced Project/Code/Data/omniglot/images_background/images_background/Armenian/character01/0027_01.png')\n",
    "x = img_to_array(img)\n",
    "x = x.reshape((1,) + x.shape)\n",
    "\n",
    "i = 0\n",
    "for batch in train_datagen.flow(x, batch_size=1, save_to_dir='F:/Work/University/Year 5/ACS6420_Advanced Project/Code/Data/preview', save_format='jpeg'):\n",
    "    i+=1\n",
    "    if i > 9:\n",
    "        break"
   ]
  },
  {
   "cell_type": "code",
   "execution_count": 32,
   "metadata": {},
   "outputs": [
    {
     "name": "stdout",
     "output_type": "stream",
     "text": [
      "Found 200 images belonging to 2 classes.\n",
      "Found 96 images belonging to 2 classes.\n"
     ]
    }
   ],
   "source": [
    "train_generator = train_datagen.flow_from_directory(\n",
    "    'F:/Work/University/Year 5/ACS6420_Advanced Project/Code/Data/omniglot/train_small/',\n",
    "    target_size=IMG_SIZE,\n",
    "    color_mode='rgb',\n",
    "    shuffle=True,\n",
    "    seed=1,\n",
    "    batch_size=BATCH_SIZE,\n",
    "    class_mode='binary')\n",
    "\n",
    "validation_generator = test_datagen.flow_from_directory(\n",
    "    'F:/Work/University/Year 5/ACS6420_Advanced Project/Code/Data/omniglot/val_small/',\n",
    "    target_size=IMG_SIZE,\n",
    "    color_mode='rgb',\n",
    "    shuffle=True,\n",
    "    seed=2,\n",
    "    batch_size=BATCH_SIZE,\n",
    "    class_mode='binary')"
   ]
  },
  {
   "cell_type": "markdown",
   "metadata": {},
   "source": [
    "## Create Convolutional Neural Network"
   ]
  },
  {
   "cell_type": "code",
   "execution_count": 33,
   "metadata": {},
   "outputs": [],
   "source": [
    "base_logdir = \"logs/scalars/\"\n",
    "for f in os.listdir(base_logdir):\n",
    "    file_path = os.path.join(base_logdir, f)\n",
    "    \n",
    "    shutil.rmtree(file_path)\n",
    "\n",
    "logdir = \"logs/scalars/\" + datetime.now().strftime(\"%Y%m%d-%H%M%S\")\n",
    "tensorboard_callback = keras.callbacks.TensorBoard(log_dir=logdir)"
   ]
  },
  {
   "cell_type": "code",
   "execution_count": 34,
   "metadata": {},
   "outputs": [
    {
     "name": "stdout",
     "output_type": "stream",
     "text": [
      "Model: \"functional_7\"\n",
      "_________________________________________________________________\n",
      "Layer (type)                 Output Shape              Param #   \n",
      "=================================================================\n",
      "input_4 (InputLayer)         [(None, 105, 105, 3)]     0         \n",
      "_________________________________________________________________\n",
      "block1_conv1 (Conv2D)        (None, 105, 105, 64)      1792      \n",
      "_________________________________________________________________\n",
      "block1_conv2 (Conv2D)        (None, 105, 105, 64)      36928     \n",
      "_________________________________________________________________\n",
      "block1_pool (MaxPooling2D)   (None, 52, 52, 64)        0         \n",
      "_________________________________________________________________\n",
      "block2_conv1 (Conv2D)        (None, 52, 52, 128)       73856     \n",
      "_________________________________________________________________\n",
      "block2_conv2 (Conv2D)        (None, 52, 52, 128)       147584    \n",
      "_________________________________________________________________\n",
      "block2_pool (MaxPooling2D)   (None, 26, 26, 128)       0         \n",
      "_________________________________________________________________\n",
      "block3_conv1 (Conv2D)        (None, 26, 26, 256)       295168    \n",
      "_________________________________________________________________\n",
      "block3_conv2 (Conv2D)        (None, 26, 26, 256)       590080    \n",
      "_________________________________________________________________\n",
      "block3_conv3 (Conv2D)        (None, 26, 26, 256)       590080    \n",
      "_________________________________________________________________\n",
      "block3_pool (MaxPooling2D)   (None, 13, 13, 256)       0         \n",
      "_________________________________________________________________\n",
      "block4_conv1 (Conv2D)        (None, 13, 13, 512)       1180160   \n",
      "_________________________________________________________________\n",
      "block4_conv2 (Conv2D)        (None, 13, 13, 512)       2359808   \n",
      "_________________________________________________________________\n",
      "block4_conv3 (Conv2D)        (None, 13, 13, 512)       2359808   \n",
      "_________________________________________________________________\n",
      "block4_pool (MaxPooling2D)   (None, 6, 6, 512)         0         \n",
      "_________________________________________________________________\n",
      "block5_conv1 (Conv2D)        (None, 6, 6, 512)         2359808   \n",
      "_________________________________________________________________\n",
      "block5_conv2 (Conv2D)        (None, 6, 6, 512)         2359808   \n",
      "_________________________________________________________________\n",
      "block5_conv3 (Conv2D)        (None, 6, 6, 512)         2359808   \n",
      "_________________________________________________________________\n",
      "block5_pool (MaxPooling2D)   (None, 3, 3, 512)         0         \n",
      "_________________________________________________________________\n",
      "flatten_4 (Flatten)          (None, 4608)              0         \n",
      "_________________________________________________________________\n",
      "dense_8 (Dense)              (None, 32)                147488    \n",
      "_________________________________________________________________\n",
      "dropout_7 (Dropout)          (None, 32)                0         \n",
      "_________________________________________________________________\n",
      "dense_9 (Dense)              (None, 1)                 33        \n",
      "=================================================================\n",
      "Total params: 14,862,209\n",
      "Trainable params: 147,521\n",
      "Non-trainable params: 14,714,688\n",
      "_________________________________________________________________\n"
     ]
    }
   ],
   "source": [
    "# Convolutional Neural Network\n",
    "model = VGG16(include_top=False, input_shape=(SIZE, SIZE, NUM_CHANNELS))\n",
    "\n",
    "# Only retrain last block of VGG16 - 3 conv layers\n",
    "for layer in model.layers:\n",
    "    #if not layer.name.startswith('block5'):\n",
    "    layer.trainable = False\n",
    "\n",
    "# Add own layers at end for task\n",
    "flat1 = Flatten()(model.layers[-1].output)\n",
    "dense1 = Dense(32, activation='relu', kernel_regularizer=l2(1E-4), bias_regularizer=l2(1E-3))(flat1)\n",
    "dropout1 = Dropout(0.5)(dense1)\n",
    "\n",
    "output = Dense(1, activation='sigmoid')(dropout1)\n",
    "\n",
    "model = Model(inputs=model.inputs, outputs=output)\n",
    "\n",
    "model.summary()\n",
    "\n",
    "optimizer = Adam(lr=0.0001)\n",
    "model.compile(loss=\"binary_crossentropy\", optimizer=optimizer, metrics=['accuracy', 'Precision', 'Recall'])"
   ]
  },
  {
   "cell_type": "code",
   "execution_count": 35,
   "metadata": {},
   "outputs": [
    {
     "name": "stdout",
     "output_type": "stream",
     "text": [
      "Epoch 1/75\n",
      " 2/12 [====>.........................] - ETA: 2s - loss: 0.7032 - accuracy: 0.5938 - precision: 0.4667 - recall: 0.5833WARNING:tensorflow:Callbacks method `on_train_batch_end` is slow compared to the batch time (batch time: 0.0710s vs `on_train_batch_end` time: 0.3603s). Check your callbacks.\n",
      "12/12 [==============================] - 2s 159ms/step - loss: 0.7561 - accuracy: 0.5217 - precision: 0.5181 - recall: 0.4725 - val_loss: 0.6269 - val_accuracy: 0.6771 - val_precision: 0.6889 - val_recall: 0.6458\n",
      "Epoch 2/75\n",
      "12/12 [==============================] - 1s 48ms/step - loss: 0.6729 - accuracy: 0.5815 - precision: 0.5701 - recall: 0.6630 - val_loss: 0.5978 - val_accuracy: 0.6979 - val_precision: 0.7209 - val_recall: 0.6458\n",
      "Epoch 3/75\n",
      "12/12 [==============================] - 1s 50ms/step - loss: 0.6644 - accuracy: 0.5938 - precision: 0.6000 - recall: 0.5625 - val_loss: 0.5939 - val_accuracy: 0.6979 - val_precision: 0.8276 - val_recall: 0.5000\n",
      "Epoch 4/75\n",
      "12/12 [==============================] - 1s 48ms/step - loss: 0.6304 - accuracy: 0.6576 - precision: 0.6747 - recall: 0.6087 - val_loss: 0.5782 - val_accuracy: 0.7188 - val_precision: 0.7838 - val_recall: 0.6042\n",
      "Epoch 5/75\n",
      "12/12 [==============================] - 1s 48ms/step - loss: 0.5695 - accuracy: 0.7500 - precision: 0.7738 - recall: 0.7065 - val_loss: 0.5707 - val_accuracy: 0.6979 - val_precision: 0.7714 - val_recall: 0.5625\n",
      "Epoch 6/75\n",
      "12/12 [==============================] - 1s 50ms/step - loss: 0.5794 - accuracy: 0.7228 - precision: 0.7292 - recall: 0.7368 - val_loss: 0.5491 - val_accuracy: 0.7396 - val_precision: 0.7447 - val_recall: 0.7292\n",
      "Epoch 7/75\n",
      "12/12 [==============================] - 1s 51ms/step - loss: 0.5734 - accuracy: 0.7065 - precision: 0.6852 - recall: 0.7872 - val_loss: 0.5387 - val_accuracy: 0.7396 - val_precision: 0.7805 - val_recall: 0.6667\n",
      "Epoch 8/75\n",
      "12/12 [==============================] - 1s 48ms/step - loss: 0.5917 - accuracy: 0.6902 - precision: 0.7021 - recall: 0.6947 - val_loss: 0.5321 - val_accuracy: 0.7188 - val_precision: 0.7692 - val_recall: 0.6250\n",
      "Epoch 9/75\n",
      "12/12 [==============================] - 1s 50ms/step - loss: 0.5701 - accuracy: 0.6957 - precision: 0.6979 - recall: 0.7128 - val_loss: 0.5251 - val_accuracy: 0.7292 - val_precision: 0.7895 - val_recall: 0.6250\n",
      "Epoch 10/75\n",
      "12/12 [==============================] - 1s 48ms/step - loss: 0.5593 - accuracy: 0.7011 - precision: 0.7176 - recall: 0.6630 - val_loss: 0.5243 - val_accuracy: 0.7396 - val_precision: 0.8286 - val_recall: 0.6042\n",
      "Epoch 11/75\n",
      "12/12 [==============================] - 1s 48ms/step - loss: 0.5611 - accuracy: 0.7337 - precision: 0.7722 - recall: 0.6630 - val_loss: 0.5263 - val_accuracy: 0.7292 - val_precision: 0.8235 - val_recall: 0.5833\n",
      "Epoch 12/75\n",
      "12/12 [==============================] - 1s 51ms/step - loss: 0.5231 - accuracy: 0.7663 - precision: 0.8219 - recall: 0.6667 - val_loss: 0.5139 - val_accuracy: 0.7396 - val_precision: 0.8108 - val_recall: 0.6250\n",
      "Epoch 13/75\n",
      "12/12 [==============================] - 1s 48ms/step - loss: 0.5412 - accuracy: 0.7174 - precision: 0.7059 - recall: 0.7660 - val_loss: 0.5040 - val_accuracy: 0.7812 - val_precision: 0.8140 - val_recall: 0.7292\n",
      "Epoch 14/75\n",
      "12/12 [==============================] - 1s 48ms/step - loss: 0.5340 - accuracy: 0.7283 - precision: 0.7128 - recall: 0.7444 - val_loss: 0.5127 - val_accuracy: 0.7292 - val_precision: 0.8056 - val_recall: 0.6042\n",
      "Epoch 15/75\n",
      "12/12 [==============================] - 1s 48ms/step - loss: 0.5267 - accuracy: 0.7717 - precision: 0.7907 - recall: 0.7391 - val_loss: 0.5119 - val_accuracy: 0.7396 - val_precision: 0.8286 - val_recall: 0.6042\n",
      "Epoch 16/75\n",
      "12/12 [==============================] - 1s 55ms/step - loss: 0.4854 - accuracy: 0.7989 - precision: 0.8152 - recall: 0.7895 - val_loss: 0.4956 - val_accuracy: 0.7812 - val_precision: 0.7872 - val_recall: 0.7708\n",
      "Epoch 17/75\n",
      "12/12 [==============================] - 1s 48ms/step - loss: 0.5085 - accuracy: 0.8098 - precision: 0.8000 - recall: 0.8261 - val_loss: 0.4931 - val_accuracy: 0.7604 - val_precision: 0.8205 - val_recall: 0.6667\n",
      "Epoch 18/75\n",
      "12/12 [==============================] - 1s 49ms/step - loss: 0.4985 - accuracy: 0.7717 - precision: 0.7927 - recall: 0.7222 - val_loss: 0.5006 - val_accuracy: 0.7188 - val_precision: 0.8182 - val_recall: 0.5625\n",
      "Epoch 19/75\n",
      "12/12 [==============================] - 1s 49ms/step - loss: 0.4993 - accuracy: 0.7554 - precision: 0.7750 - recall: 0.6966 - val_loss: 0.4948 - val_accuracy: 0.7500 - val_precision: 0.8333 - val_recall: 0.6250\n",
      "Epoch 20/75\n",
      "12/12 [==============================] - 1s 48ms/step - loss: 0.4609 - accuracy: 0.7989 - precision: 0.8293 - recall: 0.7473 - val_loss: 0.4816 - val_accuracy: 0.7917 - val_precision: 0.8333 - val_recall: 0.7292\n",
      "Epoch 21/75\n",
      "12/12 [==============================] - 1s 50ms/step - loss: 0.4757 - accuracy: 0.8152 - precision: 0.8061 - recall: 0.8404 - val_loss: 0.4798 - val_accuracy: 0.7812 - val_precision: 0.8293 - val_recall: 0.7083\n",
      "Epoch 22/75\n",
      "12/12 [==============================] - 1s 47ms/step - loss: 0.4646 - accuracy: 0.7989 - precision: 0.8395 - recall: 0.7391 - val_loss: 0.4779 - val_accuracy: 0.7917 - val_precision: 0.8500 - val_recall: 0.7083\n",
      "Epoch 23/75\n",
      "12/12 [==============================] - 1s 50ms/step - loss: 0.4785 - accuracy: 0.7880 - precision: 0.7802 - recall: 0.7889 - val_loss: 0.4817 - val_accuracy: 0.7396 - val_precision: 0.8286 - val_recall: 0.6042\n",
      "Epoch 24/75\n",
      "12/12 [==============================] - 1s 48ms/step - loss: 0.4388 - accuracy: 0.7935 - precision: 0.7935 - recall: 0.7935 - val_loss: 0.4736 - val_accuracy: 0.7917 - val_precision: 0.8333 - val_recall: 0.7292\n",
      "Epoch 25/75\n",
      "12/12 [==============================] - 1s 48ms/step - loss: 0.4869 - accuracy: 0.7989 - precision: 0.8022 - recall: 0.7935 - val_loss: 0.4803 - val_accuracy: 0.7500 - val_precision: 0.8333 - val_recall: 0.6250\n",
      "Epoch 26/75\n",
      "12/12 [==============================] - 1s 48ms/step - loss: 0.4458 - accuracy: 0.8152 - precision: 0.8333 - recall: 0.7778 - val_loss: 0.4677 - val_accuracy: 0.7917 - val_precision: 0.8500 - val_recall: 0.7083\n",
      "Epoch 27/75\n",
      "12/12 [==============================] - 1s 52ms/step - loss: 0.4353 - accuracy: 0.8098 - precision: 0.8235 - recall: 0.7778 - val_loss: 0.4664 - val_accuracy: 0.7917 - val_precision: 0.8500 - val_recall: 0.7083\n",
      "Epoch 28/75\n",
      "12/12 [==============================] - 1s 50ms/step - loss: 0.4626 - accuracy: 0.8021 - precision: 0.8061 - recall: 0.8061 - val_loss: 0.4605 - val_accuracy: 0.8125 - val_precision: 0.8409 - val_recall: 0.7708\n",
      "Epoch 29/75\n",
      "12/12 [==============================] - 1s 49ms/step - loss: 0.4331 - accuracy: 0.8424 - precision: 0.8298 - recall: 0.8571 - val_loss: 0.4672 - val_accuracy: 0.7708 - val_precision: 0.8421 - val_recall: 0.6667\n",
      "Epoch 30/75\n",
      "12/12 [==============================] - 1s 51ms/step - loss: 0.4071 - accuracy: 0.8261 - precision: 0.8588 - recall: 0.7849 - val_loss: 0.4563 - val_accuracy: 0.8125 - val_precision: 0.8571 - val_recall: 0.7500\n",
      "Epoch 31/75\n",
      "12/12 [==============================] - 1s 51ms/step - loss: 0.4602 - accuracy: 0.8261 - precision: 0.8537 - recall: 0.7778 - val_loss: 0.4680 - val_accuracy: 0.7604 - val_precision: 0.8378 - val_recall: 0.6458\n",
      "Epoch 32/75\n",
      "12/12 [==============================] - 1s 49ms/step - loss: 0.4035 - accuracy: 0.8152 - precision: 0.8391 - recall: 0.7849 - val_loss: 0.4503 - val_accuracy: 0.8229 - val_precision: 0.8444 - val_recall: 0.7917\n",
      "Epoch 33/75\n",
      "12/12 [==============================] - 1s 50ms/step - loss: 0.4197 - accuracy: 0.8261 - precision: 0.8352 - recall: 0.8172 - val_loss: 0.4542 - val_accuracy: 0.7708 - val_precision: 0.8421 - val_recall: 0.6667\n",
      "Epoch 34/75\n",
      "12/12 [==============================] - 1s 49ms/step - loss: 0.4773 - accuracy: 0.8098 - precision: 0.8353 - recall: 0.7717 - val_loss: 0.4612 - val_accuracy: 0.7708 - val_precision: 0.8421 - val_recall: 0.6667\n",
      "Epoch 35/75\n",
      "12/12 [==============================] - 1s 49ms/step - loss: 0.4237 - accuracy: 0.8207 - precision: 0.8523 - recall: 0.7895 - val_loss: 0.4481 - val_accuracy: 0.8021 - val_precision: 0.8372 - val_recall: 0.7500\n",
      "Epoch 36/75\n"
     ]
    },
    {
     "name": "stdout",
     "output_type": "stream",
     "text": [
      "12/12 [==============================] - 1s 48ms/step - loss: 0.4182 - accuracy: 0.8587 - precision: 0.8824 - recall: 0.8242 - val_loss: 0.4417 - val_accuracy: 0.8125 - val_precision: 0.8409 - val_recall: 0.7708\n",
      "Epoch 37/75\n",
      "12/12 [==============================] - 1s 50ms/step - loss: 0.4156 - accuracy: 0.8207 - precision: 0.8353 - recall: 0.7889 - val_loss: 0.4469 - val_accuracy: 0.7708 - val_precision: 0.8421 - val_recall: 0.6667\n",
      "Epoch 38/75\n",
      "12/12 [==============================] - 1s 48ms/step - loss: 0.4139 - accuracy: 0.8315 - precision: 0.8590 - recall: 0.7701 - val_loss: 0.4456 - val_accuracy: 0.7708 - val_precision: 0.8421 - val_recall: 0.6667\n",
      "Epoch 39/75\n",
      "12/12 [==============================] - 1s 50ms/step - loss: 0.4015 - accuracy: 0.8315 - precision: 0.8511 - recall: 0.8247 - val_loss: 0.4341 - val_accuracy: 0.8021 - val_precision: 0.8222 - val_recall: 0.7708\n",
      "Epoch 40/75\n",
      "12/12 [==============================] - 1s 48ms/step - loss: 0.4168 - accuracy: 0.8315 - precision: 0.8182 - recall: 0.8617 - val_loss: 0.4339 - val_accuracy: 0.8021 - val_precision: 0.8372 - val_recall: 0.7500\n",
      "Epoch 41/75\n",
      "12/12 [==============================] - 1s 48ms/step - loss: 0.3803 - accuracy: 0.8750 - precision: 0.8851 - recall: 0.8556 - val_loss: 0.4336 - val_accuracy: 0.7917 - val_precision: 0.8333 - val_recall: 0.7292\n",
      "Epoch 42/75\n",
      "12/12 [==============================] - 1s 48ms/step - loss: 0.3807 - accuracy: 0.8750 - precision: 0.9157 - recall: 0.8261 - val_loss: 0.4372 - val_accuracy: 0.7812 - val_precision: 0.8293 - val_recall: 0.7083\n",
      "Epoch 43/75\n",
      "12/12 [==============================] - 1s 50ms/step - loss: 0.3787 - accuracy: 0.8587 - precision: 0.8667 - recall: 0.8478 - val_loss: 0.4285 - val_accuracy: 0.8021 - val_precision: 0.8222 - val_recall: 0.7708\n",
      "Epoch 44/75\n",
      "12/12 [==============================] - 1s 49ms/step - loss: 0.3799 - accuracy: 0.8696 - precision: 0.8542 - recall: 0.8913 - val_loss: 0.4387 - val_accuracy: 0.7604 - val_precision: 0.8205 - val_recall: 0.6667\n",
      "Epoch 45/75\n",
      "12/12 [==============================] - 1s 48ms/step - loss: 0.3821 - accuracy: 0.8587 - precision: 0.9146 - recall: 0.7979 - val_loss: 0.4325 - val_accuracy: 0.7917 - val_precision: 0.8333 - val_recall: 0.7292\n",
      "Epoch 46/75\n",
      "12/12 [==============================] - 1s 52ms/step - loss: 0.3801 - accuracy: 0.8315 - precision: 0.8261 - recall: 0.8352 - val_loss: 0.4291 - val_accuracy: 0.7917 - val_precision: 0.8333 - val_recall: 0.7292\n",
      "Epoch 47/75\n",
      "12/12 [==============================] - 1s 49ms/step - loss: 0.3470 - accuracy: 0.8641 - precision: 0.8764 - recall: 0.8478 - val_loss: 0.4355 - val_accuracy: 0.7708 - val_precision: 0.8250 - val_recall: 0.6875\n",
      "Epoch 48/75\n",
      "12/12 [==============================] - 1s 50ms/step - loss: 0.3569 - accuracy: 0.8533 - precision: 0.8987 - recall: 0.7889 - val_loss: 0.4258 - val_accuracy: 0.8021 - val_precision: 0.8372 - val_recall: 0.7500\n",
      "Epoch 49/75\n",
      "12/12 [==============================] - 1s 50ms/step - loss: 0.3910 - accuracy: 0.8478 - precision: 0.8539 - recall: 0.8352 - val_loss: 0.4234 - val_accuracy: 0.8229 - val_precision: 0.8444 - val_recall: 0.7917\n",
      "Epoch 50/75\n",
      "12/12 [==============================] - 1s 48ms/step - loss: 0.3795 - accuracy: 0.8533 - precision: 0.8438 - recall: 0.8710 - val_loss: 0.4246 - val_accuracy: 0.8021 - val_precision: 0.8372 - val_recall: 0.7500\n",
      "Epoch 51/75\n",
      "12/12 [==============================] - 1s 48ms/step - loss: 0.3591 - accuracy: 0.8750 - precision: 0.9359 - recall: 0.8022 - val_loss: 0.4297 - val_accuracy: 0.7812 - val_precision: 0.8293 - val_recall: 0.7083\n",
      "Epoch 52/75\n",
      "12/12 [==============================] - 1s 49ms/step - loss: 0.3395 - accuracy: 0.8859 - precision: 0.9186 - recall: 0.8495 - val_loss: 0.4187 - val_accuracy: 0.8125 - val_precision: 0.8409 - val_recall: 0.7708\n",
      "Epoch 53/75\n",
      "12/12 [==============================] - 1s 50ms/step - loss: 0.3391 - accuracy: 0.8750 - precision: 0.8791 - recall: 0.8696 - val_loss: 0.4235 - val_accuracy: 0.8021 - val_precision: 0.8372 - val_recall: 0.7500\n",
      "Epoch 54/75\n",
      "12/12 [==============================] - 1s 50ms/step - loss: 0.3545 - accuracy: 0.8696 - precision: 0.8941 - recall: 0.8352 - val_loss: 0.4211 - val_accuracy: 0.8021 - val_precision: 0.8372 - val_recall: 0.7500\n",
      "Epoch 55/75\n",
      "12/12 [==============================] - 1s 48ms/step - loss: 0.3563 - accuracy: 0.8750 - precision: 0.9036 - recall: 0.8333 - val_loss: 0.4179 - val_accuracy: 0.8021 - val_precision: 0.8372 - val_recall: 0.7500\n",
      "Epoch 56/75\n",
      "12/12 [==============================] - 1s 49ms/step - loss: 0.3412 - accuracy: 0.8859 - precision: 0.8966 - recall: 0.8667 - val_loss: 0.4178 - val_accuracy: 0.7917 - val_precision: 0.8333 - val_recall: 0.7292\n",
      "Epoch 57/75\n",
      "12/12 [==============================] - 1s 52ms/step - loss: 0.3345 - accuracy: 0.8854 - precision: 0.8842 - recall: 0.8842 - val_loss: 0.4182 - val_accuracy: 0.8021 - val_precision: 0.8537 - val_recall: 0.7292\n",
      "Epoch 58/75\n",
      "12/12 [==============================] - 1s 48ms/step - loss: 0.3350 - accuracy: 0.8859 - precision: 0.8989 - recall: 0.8696 - val_loss: 0.4191 - val_accuracy: 0.7917 - val_precision: 0.8500 - val_recall: 0.7083\n",
      "Epoch 59/75\n",
      "12/12 [==============================] - 1s 50ms/step - loss: 0.3163 - accuracy: 0.9010 - precision: 0.9239 - recall: 0.8763 - val_loss: 0.4117 - val_accuracy: 0.7917 - val_precision: 0.8333 - val_recall: 0.7292\n",
      "Epoch 60/75\n",
      "12/12 [==============================] - 1s 50ms/step - loss: 0.3459 - accuracy: 0.8859 - precision: 0.9022 - recall: 0.8737 - val_loss: 0.4037 - val_accuracy: 0.8229 - val_precision: 0.8444 - val_recall: 0.7917\n",
      "Epoch 61/75\n",
      "12/12 [==============================] - 1s 49ms/step - loss: 0.3397 - accuracy: 0.8750 - precision: 0.8542 - recall: 0.9011 - val_loss: 0.4058 - val_accuracy: 0.8125 - val_precision: 0.8409 - val_recall: 0.7708\n",
      "Epoch 62/75\n",
      "12/12 [==============================] - 1s 50ms/step - loss: 0.3552 - accuracy: 0.8424 - precision: 0.9079 - recall: 0.7582 - val_loss: 0.4085 - val_accuracy: 0.8021 - val_precision: 0.8372 - val_recall: 0.7500\n",
      "Epoch 63/75\n",
      "12/12 [==============================] - 1s 52ms/step - loss: 0.3333 - accuracy: 0.8750 - precision: 0.8571 - recall: 0.9032 - val_loss: 0.4052 - val_accuracy: 0.8229 - val_precision: 0.8298 - val_recall: 0.8125\n",
      "Epoch 64/75\n",
      "12/12 [==============================] - 1s 49ms/step - loss: 0.3431 - accuracy: 0.8750 - precision: 0.8901 - recall: 0.8617 - val_loss: 0.4057 - val_accuracy: 0.8125 - val_precision: 0.8409 - val_recall: 0.7708\n",
      "Epoch 65/75\n",
      "12/12 [==============================] - 1s 49ms/step - loss: 0.3185 - accuracy: 0.9076 - precision: 0.9022 - recall: 0.9121 - val_loss: 0.4006 - val_accuracy: 0.8229 - val_precision: 0.8298 - val_recall: 0.8125\n",
      "Epoch 66/75\n",
      "12/12 [==============================] - 1s 50ms/step - loss: 0.3228 - accuracy: 0.8641 - precision: 0.8764 - recall: 0.8478 - val_loss: 0.4052 - val_accuracy: 0.7917 - val_precision: 0.8333 - val_recall: 0.7292\n",
      "Epoch 67/75\n",
      "12/12 [==============================] - 1s 49ms/step - loss: 0.3208 - accuracy: 0.8804 - precision: 0.8876 - recall: 0.8681 - val_loss: 0.3981 - val_accuracy: 0.8438 - val_precision: 0.8367 - val_recall: 0.8542\n",
      "Epoch 68/75\n",
      "12/12 [==============================] - 1s 51ms/step - loss: 0.3184 - accuracy: 0.8804 - precision: 0.8864 - recall: 0.8667 - val_loss: 0.3961 - val_accuracy: 0.8125 - val_precision: 0.8261 - val_recall: 0.7917\n",
      "Epoch 69/75\n",
      "12/12 [==============================] - 1s 49ms/step - loss: 0.3373 - accuracy: 0.8750 - precision: 0.8791 - recall: 0.8696 - val_loss: 0.4001 - val_accuracy: 0.8229 - val_precision: 0.8444 - val_recall: 0.7917\n",
      "Epoch 70/75\n",
      "12/12 [==============================] - 1s 49ms/step - loss: 0.3066 - accuracy: 0.8804 - precision: 0.9070 - recall: 0.8478 - val_loss: 0.3999 - val_accuracy: 0.8125 - val_precision: 0.8409 - val_recall: 0.7708\n",
      "Epoch 71/75\n",
      "12/12 [==============================] - 1s 52ms/step - loss: 0.3099 - accuracy: 0.9167 - precision: 0.9348 - recall: 0.8958 - val_loss: 0.3959 - val_accuracy: 0.8333 - val_precision: 0.8333 - val_recall: 0.8333\n",
      "Epoch 72/75\n",
      "12/12 [==============================] - 1s 54ms/step - loss: 0.3118 - accuracy: 0.8967 - precision: 0.9195 - recall: 0.8696 - val_loss: 0.4006 - val_accuracy: 0.8125 - val_precision: 0.8409 - val_recall: 0.7708\n"
     ]
    },
    {
     "name": "stdout",
     "output_type": "stream",
     "text": [
      "Epoch 73/75\n",
      "12/12 [==============================] - 1s 48ms/step - loss: 0.2947 - accuracy: 0.9293 - precision: 0.9130 - recall: 0.9438 - val_loss: 0.3949 - val_accuracy: 0.8125 - val_precision: 0.8261 - val_recall: 0.7917\n",
      "Epoch 74/75\n",
      "12/12 [==============================] - 1s 49ms/step - loss: 0.3483 - accuracy: 0.8696 - precision: 0.8602 - recall: 0.8791 - val_loss: 0.3971 - val_accuracy: 0.8229 - val_precision: 0.8444 - val_recall: 0.7917\n",
      "Epoch 75/75\n",
      "12/12 [==============================] - 1s 52ms/step - loss: 0.3395 - accuracy: 0.8859 - precision: 0.9167 - recall: 0.8462 - val_loss: 0.3937 - val_accuracy: 0.8125 - val_precision: 0.8261 - val_recall: 0.7917\n"
     ]
    },
    {
     "data": {
      "text/plain": [
       "<tensorflow.python.keras.callbacks.History at 0x170d324d9b0>"
      ]
     },
     "execution_count": 35,
     "metadata": {},
     "output_type": "execute_result"
    }
   ],
   "source": [
    "model.fit(train_generator, steps_per_epoch=train_generator.samples//BATCH_SIZE, \n",
    "          validation_data=validation_generator, validation_steps=validation_generator.samples//BATCH_SIZE,\n",
    "          epochs=75, callbacks=[tensorboard_callback], verbose=1)"
   ]
  },
  {
   "cell_type": "code",
   "execution_count": 36,
   "metadata": {
    "scrolled": false
   },
   "outputs": [
    {
     "data": {
      "text/plain": [
       "Reusing TensorBoard on port 6006 (pid 8140), started 0:30:59 ago. (Use '!kill 8140' to kill it.)"
      ]
     },
     "metadata": {},
     "output_type": "display_data"
    },
    {
     "data": {
      "text/html": [
       "\n",
       "      <iframe id=\"tensorboard-frame-fa8bc941f7e3bd16\" width=\"100%\" height=\"800\" frameborder=\"0\">\n",
       "      </iframe>\n",
       "      <script>\n",
       "        (function() {\n",
       "          const frame = document.getElementById(\"tensorboard-frame-fa8bc941f7e3bd16\");\n",
       "          const url = new URL(\"/\", window.location);\n",
       "          const port = 6006;\n",
       "          if (port) {\n",
       "            url.port = port;\n",
       "          }\n",
       "          frame.src = url;\n",
       "        })();\n",
       "      </script>\n",
       "    "
      ],
      "text/plain": [
       "<IPython.core.display.HTML object>"
      ]
     },
     "metadata": {},
     "output_type": "display_data"
    }
   ],
   "source": [
    "%tensorboard --logdir logs/scalars --host 'localhost'"
   ]
  },
  {
   "cell_type": "code",
   "execution_count": null,
   "metadata": {},
   "outputs": [],
   "source": []
  }
 ],
 "metadata": {
  "kernelspec": {
   "display_name": "Python 3",
   "language": "python",
   "name": "python3"
  },
  "language_info": {
   "codemirror_mode": {
    "name": "ipython",
    "version": 3
   },
   "file_extension": ".py",
   "mimetype": "text/x-python",
   "name": "python",
   "nbconvert_exporter": "python",
   "pygments_lexer": "ipython3",
   "version": "3.7.0"
  }
 },
 "nbformat": 4,
 "nbformat_minor": 4
}
