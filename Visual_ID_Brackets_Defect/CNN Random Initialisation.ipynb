{
 "cells": [
  {
   "cell_type": "markdown",
   "metadata": {},
   "source": [
    "## Import Required Packages"
   ]
  },
  {
   "cell_type": "code",
   "execution_count": 1,
   "metadata": {},
   "outputs": [],
   "source": [
    "import sys\n",
    "import numpy as np\n",
    "import os\n",
    "import shutil\n",
    "import matplotlib.pyplot as plt\n",
    "%matplotlib inline\n",
    "\n",
    "import time\n",
    "from datetime import datetime\n",
    "\n",
    "import tensorflow as tf\n",
    "from tensorflow import keras\n",
    "from tensorflow.keras import layers\n",
    "from tensorflow.keras import activations\n",
    "from tensorflow.keras import preprocessing\n",
    "from tensorflow.keras.preprocessing import image_dataset_from_directory\n",
    "from tensorflow.keras.preprocessing.image import ImageDataGenerator, array_to_img, img_to_array, load_img\n",
    "\n",
    "from keras.models import Sequential\n",
    "from keras.optimizers import Adam\n",
    "from keras.layers import Conv2D, ZeroPadding2D, Activation, Input, concatenate, Dropout\n",
    "from keras.models import Model\n",
    "\n",
    "from keras.layers.normalization import BatchNormalization\n",
    "from keras.layers.pooling import MaxPooling2D\n",
    "from keras.layers.merge import Concatenate\n",
    "from keras.layers.core import Lambda, Flatten, Dense\n",
    "from keras.initializers import glorot_uniform\n",
    "\n",
    "from keras.engine.topology import Layer\n",
    "from keras.regularizers import l2\n",
    "from keras import backend as K\n",
    "\n",
    "%load_ext tensorboard\n",
    "\n",
    "from sklearn.utils import shuffle\n",
    "\n",
    "import numpy.random as rng\n",
    "np.random.seed(1337)"
   ]
  },
  {
   "cell_type": "markdown",
   "metadata": {},
   "source": [
    "## Create Data Generators"
   ]
  },
  {
   "cell_type": "code",
   "execution_count": 2,
   "metadata": {},
   "outputs": [],
   "source": [
    "SIZE = 256\n",
    "IMG_SIZE = (SIZE, SIZE)\n",
    "NUM_CHANNELS = 3\n",
    "BATCH_SIZE = 16\n",
    "\n",
    "# Define training augmentations\n",
    "train_datagen = ImageDataGenerator(\n",
    "    rescale=1./255,\n",
    "    #zca_whitening=True,\n",
    "    rotation_range=40,\n",
    "    width_shift_range=0.1,\n",
    "    height_shift_range=0.1,\n",
    "    zoom_range=0.5,\n",
    "    shear_range=0.2,\n",
    "    brightness_range=[0.7, 1.3],\n",
    "    horizontal_flip=True,\n",
    "    vertical_flip=True)\n",
    "\n",
    "# Define testing augmentations\n",
    "test_datagen = ImageDataGenerator(rescale=1./255)#,\n",
    "    #zca_whitening=True)"
   ]
  },
  {
   "cell_type": "code",
   "execution_count": 5,
   "metadata": {},
   "outputs": [],
   "source": [
    "# Create example augmented images\n",
    "img = load_img('F:/Work/University/Year 5/ACS6420_Advanced Project/Code/Data/Post Installation/Binary/Training/All Cases/Both/Correct/IMG_1500.jpg')\n",
    "x = img_to_array(img)\n",
    "x = x.reshape((1,) + x.shape)\n",
    "\n",
    "i = 0\n",
    "for batch in train_datagen.flow(x, batch_size=1, save_to_dir='F:/Work/University/Year 5/ACS6420_Advanced Project/Code/Data/preview', save_format='jpeg'):\n",
    "    i+=1\n",
    "    if i > 9:\n",
    "        break"
   ]
  },
  {
   "cell_type": "code",
   "execution_count": 12,
   "metadata": {},
   "outputs": [
    {
     "name": "stdout",
     "output_type": "stream",
     "text": [
      "Found 140 images belonging to 2 classes.\n",
      "Found 200 images belonging to 2 classes.\n"
     ]
    }
   ],
   "source": [
    "train_generator = train_datagen.flow_from_directory(\n",
    "    'F:/Work/University/Year 5/ACS6420_Advanced Project/Code/Data/Post Installation/Binary/Training/All Cases/Both',\n",
    "    target_size=IMG_SIZE,\n",
    "    color_mode='rgb',\n",
    "    shuffle=True,\n",
    "    seed=1,\n",
    "    batch_size=BATCH_SIZE,\n",
    "    class_mode='binary')\n",
    "\n",
    "validation_generator = test_datagen.flow_from_directory(\n",
    "    'F:/Work/University/Year 5/ACS6420_Advanced Project/Code/Data/Post Installation/Binary/Validation/All Cases/Both',\n",
    "    target_size=IMG_SIZE,\n",
    "    color_mode='rgb',\n",
    "    shuffle=True,\n",
    "    seed=2,\n",
    "    batch_size=BATCH_SIZE,\n",
    "    class_mode='binary')"
   ]
  },
  {
   "cell_type": "markdown",
   "metadata": {},
   "source": [
    "## Create Convolutional Neural Network"
   ]
  },
  {
   "cell_type": "code",
   "execution_count": 13,
   "metadata": {},
   "outputs": [],
   "source": [
    "base_logdir = \"logs/scalars/\"\n",
    "for f in os.listdir(base_logdir):\n",
    "    file_path = os.path.join(base_logdir, f)\n",
    "    \n",
    "    shutil.rmtree(file_path)\n",
    "\n",
    "logdir = \"logs/scalars/\" + datetime.now().strftime(\"%Y%m%d-%H%M%S\")\n",
    "tensorboard_callback = keras.callbacks.TensorBoard(log_dir=logdir)"
   ]
  },
  {
   "cell_type": "code",
   "execution_count": 4,
   "metadata": {},
   "outputs": [
    {
     "name": "stdout",
     "output_type": "stream",
     "text": [
      "Model: \"sequential_1\"\n",
      "_________________________________________________________________\n",
      "Layer (type)                 Output Shape              Param #   \n",
      "=================================================================\n",
      "conv2d_3 (Conv2D)            (None, 254, 254, 16)      448       \n",
      "_________________________________________________________________\n",
      "batch_normalization_4 (Batch (None, 254, 254, 16)      64        \n",
      "_________________________________________________________________\n",
      "activation_4 (Activation)    (None, 254, 254, 16)      0         \n",
      "_________________________________________________________________\n",
      "dropout_4 (Dropout)          (None, 254, 254, 16)      0         \n",
      "_________________________________________________________________\n",
      "max_pooling2d_3 (MaxPooling2 (None, 127, 127, 16)      0         \n",
      "_________________________________________________________________\n",
      "conv2d_4 (Conv2D)            (None, 125, 125, 32)      4640      \n",
      "_________________________________________________________________\n",
      "batch_normalization_5 (Batch (None, 125, 125, 32)      128       \n",
      "_________________________________________________________________\n",
      "activation_5 (Activation)    (None, 125, 125, 32)      0         \n",
      "_________________________________________________________________\n",
      "dropout_5 (Dropout)          (None, 125, 125, 32)      0         \n",
      "_________________________________________________________________\n",
      "max_pooling2d_4 (MaxPooling2 (None, 62, 62, 32)        0         \n",
      "_________________________________________________________________\n",
      "conv2d_5 (Conv2D)            (None, 60, 60, 32)        9248      \n",
      "_________________________________________________________________\n",
      "batch_normalization_6 (Batch (None, 60, 60, 32)        128       \n",
      "_________________________________________________________________\n",
      "activation_6 (Activation)    (None, 60, 60, 32)        0         \n",
      "_________________________________________________________________\n",
      "dropout_6 (Dropout)          (None, 60, 60, 32)        0         \n",
      "_________________________________________________________________\n",
      "max_pooling2d_5 (MaxPooling2 (None, 30, 30, 32)        0         \n",
      "_________________________________________________________________\n",
      "flatten_1 (Flatten)          (None, 28800)             0         \n",
      "_________________________________________________________________\n",
      "dense_2 (Dense)              (None, 128)               3686528   \n",
      "_________________________________________________________________\n",
      "batch_normalization_7 (Batch (None, 128)               512       \n",
      "_________________________________________________________________\n",
      "activation_7 (Activation)    (None, 128)               0         \n",
      "_________________________________________________________________\n",
      "dropout_7 (Dropout)          (None, 128)               0         \n",
      "_________________________________________________________________\n",
      "dense_3 (Dense)              (None, 1)                 129       \n",
      "=================================================================\n",
      "Total params: 3,701,825\n",
      "Trainable params: 3,701,409\n",
      "Non-trainable params: 416\n",
      "_________________________________________________________________\n"
     ]
    }
   ],
   "source": [
    "# Convolutional Neural Network\n",
    "model = Sequential()\n",
    "model.add(Conv2D(16, (3,3), input_shape=(SIZE, SIZE, NUM_CHANNELS), data_format='channels_last', kernel_regularizer=l2(1E-2), bias_regularizer=l2(1E-2)))\n",
    "model.add(BatchNormalization())\n",
    "model.add(layers.Activation(activations.relu))\n",
    "model.add(Dropout(0.3))\n",
    "model.add(MaxPooling2D())\n",
    "\n",
    "model.add(Conv2D(32, (3,3), kernel_regularizer=l2(1E-2), bias_regularizer=l2(1E-2)))\n",
    "model.add(BatchNormalization())\n",
    "model.add(layers.Activation(activations.relu))\n",
    "model.add(Dropout(0.3))\n",
    "model.add(MaxPooling2D())\n",
    "\n",
    "model.add(Conv2D(32, (3,3), kernel_regularizer=l2(1E-2), bias_regularizer=l2(1E-2)))\n",
    "model.add(BatchNormalization())\n",
    "model.add(layers.Activation(activations.relu))\n",
    "model.add(Dropout(0.3))\n",
    "model.add(MaxPooling2D())\n",
    "\n",
    "model.add(Flatten())\n",
    "model.add(Dense(128, kernel_regularizer=l2(1E-2), bias_regularizer=l2(1E-2)))\n",
    "model.add(BatchNormalization())\n",
    "model.add(layers.Activation(activations.relu))\n",
    "model.add(Dropout(0.3))\n",
    "\n",
    "model.add(Dense(1, activation='sigmoid'))\n",
    "\n",
    "model.summary()\n",
    "\n",
    "optimizer = Adam(lr=0.0001)\n",
    "model.compile(loss=\"binary_crossentropy\", optimizer=optimizer, metrics=['accuracy', 'Precision', 'Recall'])"
   ]
  },
  {
   "cell_type": "code",
   "execution_count": 15,
   "metadata": {},
   "outputs": [
    {
     "name": "stdout",
     "output_type": "stream",
     "text": [
      "Epoch 1/25\n",
      "1/8 [==>...........................] - ETA: 0s - loss: 4.0586 - accuracy: 0.4375 - precision: 0.2857 - recall: 0.3333WARNING:tensorflow:From f:\\work\\university\\year 5\\acs6420_advanced project\\code\\siamese_env\\lib\\site-packages\\tensorflow\\python\\ops\\summary_ops_v2.py:1277: stop (from tensorflow.python.eager.profiler) is deprecated and will be removed after 2020-07-01.\n",
      "Instructions for updating:\n",
      "use `tf.profiler.experimental.stop` instead.\n",
      "2/8 [======>.......................] - ETA: 1s - loss: 3.9146 - accuracy: 0.5312 - precision: 0.4000 - recall: 0.5000WARNING:tensorflow:Callbacks method `on_train_batch_end` is slow compared to the batch time (batch time: 0.0160s vs `on_train_batch_end` time: 0.3775s). Check your callbacks.\n",
      "8/8 [==============================] - 18s 2s/step - loss: 3.7777 - accuracy: 0.6452 - precision: 0.6545 - recall: 0.5902 - val_loss: 3.8116 - val_accuracy: 0.5104 - val_precision: 0.5104 - val_recall: 1.0000\n",
      "Epoch 2/25\n",
      "8/8 [==============================] - 18s 2s/step - loss: 3.4970 - accuracy: 0.8468 - precision: 0.8909 - recall: 0.7903 - val_loss: 3.7500 - val_accuracy: 0.4323 - val_precision: 0.4556 - val_recall: 0.8817\n",
      "Epoch 3/25\n",
      "8/8 [==============================] - 18s 2s/step - loss: 3.4627 - accuracy: 0.8047 - precision: 0.8197 - recall: 0.7812 - val_loss: 3.7128 - val_accuracy: 0.4844 - val_precision: 0.0000e+00 - val_recall: 0.0000e+00\n",
      "Epoch 4/25\n",
      "8/8 [==============================] - 18s 2s/step - loss: 3.4230 - accuracy: 0.8065 - precision: 0.8065 - recall: 0.8065 - val_loss: 3.6711 - val_accuracy: 0.5000 - val_precision: 0.5000 - val_recall: 1.0000\n",
      "Epoch 5/25\n",
      "8/8 [==============================] - 17s 2s/step - loss: 3.3854 - accuracy: 0.8145 - precision: 0.7833 - recall: 0.8246 - val_loss: 3.6354 - val_accuracy: 0.5052 - val_precision: 0.5052 - val_recall: 1.0000\n",
      "Epoch 6/25\n",
      "8/8 [==============================] - 17s 2s/step - loss: 3.2778 - accuracy: 0.8226 - precision: 0.8065 - recall: 0.8333 - val_loss: 3.6022 - val_accuracy: 0.5052 - val_precision: 0.5079 - val_recall: 0.9898\n",
      "Epoch 7/25\n",
      "8/8 [==============================] - 18s 2s/step - loss: 3.2702 - accuracy: 0.8065 - precision: 0.8545 - recall: 0.7460 - val_loss: 3.6043 - val_accuracy: 0.4948 - val_precision: 0.4948 - val_recall: 1.0000\n",
      "Epoch 8/25\n",
      "8/8 [==============================] - 18s 2s/step - loss: 3.2609 - accuracy: 0.8125 - precision: 0.8387 - recall: 0.7879 - val_loss: 3.6191 - val_accuracy: 0.5052 - val_precision: 0.5052 - val_recall: 1.0000\n",
      "Epoch 9/25\n",
      "8/8 [==============================] - 18s 2s/step - loss: 3.1732 - accuracy: 0.8203 - precision: 0.8281 - recall: 0.8154 - val_loss: 3.6065 - val_accuracy: 0.4948 - val_precision: 0.4948 - val_recall: 1.0000\n",
      "Epoch 10/25\n",
      "8/8 [==============================] - 18s 2s/step - loss: 3.1364 - accuracy: 0.8281 - precision: 0.8621 - recall: 0.7812 - val_loss: 3.6754 - val_accuracy: 0.5000 - val_precision: 0.5000 - val_recall: 1.0000\n",
      "Epoch 11/25\n",
      "8/8 [==============================] - 17s 2s/step - loss: 3.1152 - accuracy: 0.8306 - precision: 0.8197 - recall: 0.8333 - val_loss: 3.6687 - val_accuracy: 0.5000 - val_precision: 0.5000 - val_recall: 1.0000\n",
      "Epoch 12/25\n",
      "8/8 [==============================] - 17s 2s/step - loss: 3.0882 - accuracy: 0.8387 - precision: 0.8209 - recall: 0.8730 - val_loss: 3.6973 - val_accuracy: 0.5052 - val_precision: 0.5052 - val_recall: 1.0000\n",
      "Epoch 13/25\n",
      "8/8 [==============================] - 17s 2s/step - loss: 3.0310 - accuracy: 0.8387 - precision: 0.8644 - recall: 0.8095 - val_loss: 3.7825 - val_accuracy: 0.5000 - val_precision: 0.5000 - val_recall: 1.0000\n",
      "Epoch 14/25\n",
      "8/8 [==============================] - 18s 2s/step - loss: 2.8795 - accuracy: 0.8952 - precision: 0.9344 - recall: 0.8636 - val_loss: 3.8516 - val_accuracy: 0.4948 - val_precision: 0.4948 - val_recall: 1.0000\n",
      "Epoch 15/25\n",
      "8/8 [==============================] - 16s 2s/step - loss: 2.9377 - accuracy: 0.8387 - precision: 0.8548 - recall: 0.8281 - val_loss: 3.8164 - val_accuracy: 0.5052 - val_precision: 0.5052 - val_recall: 1.0000\n",
      "Epoch 16/25\n",
      "8/8 [==============================] - 17s 2s/step - loss: 2.9351 - accuracy: 0.8359 - precision: 0.8254 - recall: 0.8387 - val_loss: 3.8483 - val_accuracy: 0.5000 - val_precision: 0.5000 - val_recall: 1.0000\n",
      "Epoch 17/25\n",
      "8/8 [==============================] - 17s 2s/step - loss: 2.8223 - accuracy: 0.8594 - precision: 0.8462 - recall: 0.8730 - val_loss: 3.8455 - val_accuracy: 0.4948 - val_precision: 0.4948 - val_recall: 1.0000\n",
      "Epoch 18/25\n",
      "8/8 [==============================] - 18s 2s/step - loss: 2.7197 - accuracy: 0.9194 - precision: 0.9032 - recall: 0.9333 - val_loss: 3.9101 - val_accuracy: 0.4948 - val_precision: 0.4948 - val_recall: 1.0000\n",
      "Epoch 19/25\n",
      "8/8 [==============================] - 17s 2s/step - loss: 2.8756 - accuracy: 0.8306 - precision: 0.8276 - recall: 0.8136 - val_loss: 3.8331 - val_accuracy: 0.4948 - val_precision: 0.4948 - val_recall: 1.0000\n",
      "Epoch 20/25\n",
      "8/8 [==============================] - 17s 2s/step - loss: 2.6565 - accuracy: 0.8710 - precision: 0.8548 - recall: 0.8833 - val_loss: 3.7536 - val_accuracy: 0.5052 - val_precision: 0.5052 - val_recall: 1.0000\n",
      "Epoch 21/25\n",
      "8/8 [==============================] - 17s 2s/step - loss: 2.7071 - accuracy: 0.8226 - precision: 0.8125 - recall: 0.8387 - val_loss: 3.8418 - val_accuracy: 0.5104 - val_precision: 0.5104 - val_recall: 1.0000\n",
      "Epoch 22/25\n",
      "8/8 [==============================] - 17s 2s/step - loss: 2.6667 - accuracy: 0.8387 - precision: 0.8361 - recall: 0.8361 - val_loss: 3.8122 - val_accuracy: 0.5156 - val_precision: 0.5156 - val_recall: 1.0000\n",
      "Epoch 23/25\n",
      "8/8 [==============================] - 17s 2s/step - loss: 2.5489 - accuracy: 0.9032 - precision: 0.9153 - recall: 0.8852 - val_loss: 3.7672 - val_accuracy: 0.4896 - val_precision: 0.4896 - val_recall: 1.0000\n",
      "Epoch 24/25\n",
      "8/8 [==============================] - 17s 2s/step - loss: 2.5442 - accuracy: 0.8672 - precision: 0.9000 - recall: 0.8308 - val_loss: 3.6988 - val_accuracy: 0.5000 - val_precision: 0.5000 - val_recall: 1.0000\n",
      "Epoch 25/25\n",
      "8/8 [==============================] - 17s 2s/step - loss: 2.5627 - accuracy: 0.8790 - precision: 0.8710 - recall: 0.8852 - val_loss: 3.7029 - val_accuracy: 0.5000 - val_precision: 0.5000 - val_recall: 1.0000\n"
     ]
    },
    {
     "data": {
      "text/plain": [
       "<tensorflow.python.keras.callbacks.History at 0x13a45072710>"
      ]
     },
     "execution_count": 15,
     "metadata": {},
     "output_type": "execute_result"
    }
   ],
   "source": [
    "model.fit(train_generator, steps_per_epoch=train_generator.samples//BATCH_SIZE, \n",
    "          validation_data=validation_generator, validation_steps=validation_generator.samples//BATCH_SIZE,\n",
    "          epochs=25, callbacks=[tensorboard_callback], verbose=1)"
   ]
  },
  {
   "cell_type": "code",
   "execution_count": 18,
   "metadata": {
    "scrolled": false
   },
   "outputs": [
    {
     "data": {
      "text/plain": [
       "Reusing TensorBoard on port 6006 (pid 15796), started 0:06:12 ago. (Use '!kill 15796' to kill it.)"
      ]
     },
     "metadata": {},
     "output_type": "display_data"
    },
    {
     "data": {
      "text/html": [
       "\n",
       "      <iframe id=\"tensorboard-frame-235fa40be9a048a4\" width=\"100%\" height=\"800\" frameborder=\"0\">\n",
       "      </iframe>\n",
       "      <script>\n",
       "        (function() {\n",
       "          const frame = document.getElementById(\"tensorboard-frame-235fa40be9a048a4\");\n",
       "          const url = new URL(\"/\", window.location);\n",
       "          const port = 6006;\n",
       "          if (port) {\n",
       "            url.port = port;\n",
       "          }\n",
       "          frame.src = url;\n",
       "        })();\n",
       "      </script>\n",
       "    "
      ],
      "text/plain": [
       "<IPython.core.display.HTML object>"
      ]
     },
     "metadata": {},
     "output_type": "display_data"
    }
   ],
   "source": [
    "%tensorboard --logdir logs/scalars"
   ]
  },
  {
   "cell_type": "code",
   "execution_count": null,
   "metadata": {},
   "outputs": [],
   "source": []
  }
 ],
 "metadata": {
  "kernelspec": {
   "display_name": "Python 3",
   "language": "python",
   "name": "python3"
  },
  "language_info": {
   "codemirror_mode": {
    "name": "ipython",
    "version": 3
   },
   "file_extension": ".py",
   "mimetype": "text/x-python",
   "name": "python",
   "nbconvert_exporter": "python",
   "pygments_lexer": "ipython3",
   "version": "3.7.0"
  }
 },
 "nbformat": 4,
 "nbformat_minor": 4
}
